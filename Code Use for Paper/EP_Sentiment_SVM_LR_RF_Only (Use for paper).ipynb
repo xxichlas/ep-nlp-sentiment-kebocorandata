{
  "nbformat": 4,
  "nbformat_minor": 0,
  "metadata": {
    "colab": {
      "provenance": []
    },
    "kernelspec": {
      "name": "python3",
      "display_name": "Python 3"
    },
    "language_info": {
      "name": "python"
    }
  },
  "cells": [
    {
      "cell_type": "markdown",
      "source": [
        "#Get labeled data and Unlabeled data"
      ],
      "metadata": {
        "id": "sFaAKXV0L8wd"
      }
    },
    {
      "cell_type": "code",
      "execution_count": 4,
      "metadata": {
        "id": "O6gChH2vJcyH"
      },
      "outputs": [],
      "source": [
        "import pandas as pd\n",
        "import numpy as np"
      ]
    },
    {
      "cell_type": "code",
      "source": [
        "#Load datasets\n",
        "labeled = pd.read_csv(\"https://raw.githubusercontent.com/xxichlas/ep-nlp-sentiment-kebocorandata/main/labeled.csv\")\n",
        "unlabeled = pd.read_csv(\"https://raw.githubusercontent.com/xxichlas/ep-nlp-sentiment-kebocorandata/main/unlabeled.csv\")"
      ],
      "metadata": {
        "id": "7i3mw-SpovbY"
      },
      "execution_count": 5,
      "outputs": []
    },
    {
      "cell_type": "markdown",
      "source": [
        "# TF- IDF"
      ],
      "metadata": {
        "id": "WjTaNo87gQL7"
      }
    },
    {
      "cell_type": "code",
      "source": [
        "from sklearn.feature_extraction.text import TfidfVectorizer\n",
        "\n",
        "# threshold\n",
        "tfidf = TfidfVectorizer()\n",
        "\n",
        "# fit and transform\n",
        "bow = tfidf.fit_transform(\n",
        "  list(labeled.tweet)\n",
        ")\n",
        "\n",
        "# hasil ditampung pada dataset baru\n",
        "data_vec = pd.DataFrame(\n",
        "  bow.toarray(),\n",
        "  columns = list(tfidf.get_feature_names_out()))\n"
      ],
      "metadata": {
        "id": "A38BE8BUgSsW"
      },
      "execution_count": 6,
      "outputs": []
    },
    {
      "cell_type": "code",
      "source": [
        "# output\n",
        "data_vec.sample(5, random_state=123)"
      ],
      "metadata": {
        "colab": {
          "base_uri": "https://localhost:8080/",
          "height": 0
        },
        "id": "PqDRdGMwgUHx",
        "outputId": "27eee9fd-5cb2-41c5-fdda-09a96d67faa4"
      },
      "execution_count": 7,
      "outputs": [
        {
          "output_type": "execute_result",
          "data": {
            "text/plain": [
              "     abdul  abrijani  acara  action  ada  adakemiripan  adalah  ade  adik  \\\n",
              "494    0.0       0.0    0.0     0.0  0.0           0.0     0.0  0.0   0.0   \n",
              "11     0.0       0.0    0.0     0.0  0.0           0.0     0.0  0.0   0.0   \n",
              "373    0.0       0.0    0.0     0.0  0.0           0.0     0.0  0.0   0.0   \n",
              "107    0.0       0.0    0.0     0.0  0.0           0.0     0.0  0.0   0.0   \n",
              "203    0.0       0.0    0.0     0.0  0.0           0.0     0.0  0.0   0.0   \n",
              "\n",
              "     adil  ...  yak      yang  yasaatnya  yawla  youtube   yu  yuk  yukz  \\\n",
              "494   0.0  ...  0.0  0.000000        0.0    0.0      0.0  0.0  0.0   0.0   \n",
              "11    0.0  ...  0.0  0.000000        0.0    0.0      0.0  0.0  0.0   0.0   \n",
              "373   0.0  ...  0.0  0.000000        0.0    0.0      0.0  0.0  0.0   0.0   \n",
              "107   0.0  ...  0.0  0.217296        0.0    0.0      0.0  0.0  0.0   0.0   \n",
              "203   0.0  ...  0.0  0.138269        0.0    0.0      0.0  0.0  0.0   0.0   \n",
              "\n",
              "     zendaya  zombies  \n",
              "494      0.0      0.0  \n",
              "11       0.0      0.0  \n",
              "373      0.0      0.0  \n",
              "107      0.0      0.0  \n",
              "203      0.0      0.0  \n",
              "\n",
              "[5 rows x 1731 columns]"
            ],
            "text/html": [
              "\n",
              "  <div id=\"df-99ae7309-43fc-4582-a0f6-d5ae310fcb5d\">\n",
              "    <div class=\"colab-df-container\">\n",
              "      <div>\n",
              "<style scoped>\n",
              "    .dataframe tbody tr th:only-of-type {\n",
              "        vertical-align: middle;\n",
              "    }\n",
              "\n",
              "    .dataframe tbody tr th {\n",
              "        vertical-align: top;\n",
              "    }\n",
              "\n",
              "    .dataframe thead th {\n",
              "        text-align: right;\n",
              "    }\n",
              "</style>\n",
              "<table border=\"1\" class=\"dataframe\">\n",
              "  <thead>\n",
              "    <tr style=\"text-align: right;\">\n",
              "      <th></th>\n",
              "      <th>abdul</th>\n",
              "      <th>abrijani</th>\n",
              "      <th>acara</th>\n",
              "      <th>action</th>\n",
              "      <th>ada</th>\n",
              "      <th>adakemiripan</th>\n",
              "      <th>adalah</th>\n",
              "      <th>ade</th>\n",
              "      <th>adik</th>\n",
              "      <th>adil</th>\n",
              "      <th>...</th>\n",
              "      <th>yak</th>\n",
              "      <th>yang</th>\n",
              "      <th>yasaatnya</th>\n",
              "      <th>yawla</th>\n",
              "      <th>youtube</th>\n",
              "      <th>yu</th>\n",
              "      <th>yuk</th>\n",
              "      <th>yukz</th>\n",
              "      <th>zendaya</th>\n",
              "      <th>zombies</th>\n",
              "    </tr>\n",
              "  </thead>\n",
              "  <tbody>\n",
              "    <tr>\n",
              "      <th>494</th>\n",
              "      <td>0.0</td>\n",
              "      <td>0.0</td>\n",
              "      <td>0.0</td>\n",
              "      <td>0.0</td>\n",
              "      <td>0.0</td>\n",
              "      <td>0.0</td>\n",
              "      <td>0.0</td>\n",
              "      <td>0.0</td>\n",
              "      <td>0.0</td>\n",
              "      <td>0.0</td>\n",
              "      <td>...</td>\n",
              "      <td>0.0</td>\n",
              "      <td>0.000000</td>\n",
              "      <td>0.0</td>\n",
              "      <td>0.0</td>\n",
              "      <td>0.0</td>\n",
              "      <td>0.0</td>\n",
              "      <td>0.0</td>\n",
              "      <td>0.0</td>\n",
              "      <td>0.0</td>\n",
              "      <td>0.0</td>\n",
              "    </tr>\n",
              "    <tr>\n",
              "      <th>11</th>\n",
              "      <td>0.0</td>\n",
              "      <td>0.0</td>\n",
              "      <td>0.0</td>\n",
              "      <td>0.0</td>\n",
              "      <td>0.0</td>\n",
              "      <td>0.0</td>\n",
              "      <td>0.0</td>\n",
              "      <td>0.0</td>\n",
              "      <td>0.0</td>\n",
              "      <td>0.0</td>\n",
              "      <td>...</td>\n",
              "      <td>0.0</td>\n",
              "      <td>0.000000</td>\n",
              "      <td>0.0</td>\n",
              "      <td>0.0</td>\n",
              "      <td>0.0</td>\n",
              "      <td>0.0</td>\n",
              "      <td>0.0</td>\n",
              "      <td>0.0</td>\n",
              "      <td>0.0</td>\n",
              "      <td>0.0</td>\n",
              "    </tr>\n",
              "    <tr>\n",
              "      <th>373</th>\n",
              "      <td>0.0</td>\n",
              "      <td>0.0</td>\n",
              "      <td>0.0</td>\n",
              "      <td>0.0</td>\n",
              "      <td>0.0</td>\n",
              "      <td>0.0</td>\n",
              "      <td>0.0</td>\n",
              "      <td>0.0</td>\n",
              "      <td>0.0</td>\n",
              "      <td>0.0</td>\n",
              "      <td>...</td>\n",
              "      <td>0.0</td>\n",
              "      <td>0.000000</td>\n",
              "      <td>0.0</td>\n",
              "      <td>0.0</td>\n",
              "      <td>0.0</td>\n",
              "      <td>0.0</td>\n",
              "      <td>0.0</td>\n",
              "      <td>0.0</td>\n",
              "      <td>0.0</td>\n",
              "      <td>0.0</td>\n",
              "    </tr>\n",
              "    <tr>\n",
              "      <th>107</th>\n",
              "      <td>0.0</td>\n",
              "      <td>0.0</td>\n",
              "      <td>0.0</td>\n",
              "      <td>0.0</td>\n",
              "      <td>0.0</td>\n",
              "      <td>0.0</td>\n",
              "      <td>0.0</td>\n",
              "      <td>0.0</td>\n",
              "      <td>0.0</td>\n",
              "      <td>0.0</td>\n",
              "      <td>...</td>\n",
              "      <td>0.0</td>\n",
              "      <td>0.217296</td>\n",
              "      <td>0.0</td>\n",
              "      <td>0.0</td>\n",
              "      <td>0.0</td>\n",
              "      <td>0.0</td>\n",
              "      <td>0.0</td>\n",
              "      <td>0.0</td>\n",
              "      <td>0.0</td>\n",
              "      <td>0.0</td>\n",
              "    </tr>\n",
              "    <tr>\n",
              "      <th>203</th>\n",
              "      <td>0.0</td>\n",
              "      <td>0.0</td>\n",
              "      <td>0.0</td>\n",
              "      <td>0.0</td>\n",
              "      <td>0.0</td>\n",
              "      <td>0.0</td>\n",
              "      <td>0.0</td>\n",
              "      <td>0.0</td>\n",
              "      <td>0.0</td>\n",
              "      <td>0.0</td>\n",
              "      <td>...</td>\n",
              "      <td>0.0</td>\n",
              "      <td>0.138269</td>\n",
              "      <td>0.0</td>\n",
              "      <td>0.0</td>\n",
              "      <td>0.0</td>\n",
              "      <td>0.0</td>\n",
              "      <td>0.0</td>\n",
              "      <td>0.0</td>\n",
              "      <td>0.0</td>\n",
              "      <td>0.0</td>\n",
              "    </tr>\n",
              "  </tbody>\n",
              "</table>\n",
              "<p>5 rows × 1731 columns</p>\n",
              "</div>\n",
              "      <button class=\"colab-df-convert\" onclick=\"convertToInteractive('df-99ae7309-43fc-4582-a0f6-d5ae310fcb5d')\"\n",
              "              title=\"Convert this dataframe to an interactive table.\"\n",
              "              style=\"display:none;\">\n",
              "        \n",
              "  <svg xmlns=\"http://www.w3.org/2000/svg\" height=\"24px\"viewBox=\"0 0 24 24\"\n",
              "       width=\"24px\">\n",
              "    <path d=\"M0 0h24v24H0V0z\" fill=\"none\"/>\n",
              "    <path d=\"M18.56 5.44l.94 2.06.94-2.06 2.06-.94-2.06-.94-.94-2.06-.94 2.06-2.06.94zm-11 1L8.5 8.5l.94-2.06 2.06-.94-2.06-.94L8.5 2.5l-.94 2.06-2.06.94zm10 10l.94 2.06.94-2.06 2.06-.94-2.06-.94-.94-2.06-.94 2.06-2.06.94z\"/><path d=\"M17.41 7.96l-1.37-1.37c-.4-.4-.92-.59-1.43-.59-.52 0-1.04.2-1.43.59L10.3 9.45l-7.72 7.72c-.78.78-.78 2.05 0 2.83L4 21.41c.39.39.9.59 1.41.59.51 0 1.02-.2 1.41-.59l7.78-7.78 2.81-2.81c.8-.78.8-2.07 0-2.86zM5.41 20L4 18.59l7.72-7.72 1.47 1.35L5.41 20z\"/>\n",
              "  </svg>\n",
              "      </button>\n",
              "      \n",
              "  <style>\n",
              "    .colab-df-container {\n",
              "      display:flex;\n",
              "      flex-wrap:wrap;\n",
              "      gap: 12px;\n",
              "    }\n",
              "\n",
              "    .colab-df-convert {\n",
              "      background-color: #E8F0FE;\n",
              "      border: none;\n",
              "      border-radius: 50%;\n",
              "      cursor: pointer;\n",
              "      display: none;\n",
              "      fill: #1967D2;\n",
              "      height: 32px;\n",
              "      padding: 0 0 0 0;\n",
              "      width: 32px;\n",
              "    }\n",
              "\n",
              "    .colab-df-convert:hover {\n",
              "      background-color: #E2EBFA;\n",
              "      box-shadow: 0px 1px 2px rgba(60, 64, 67, 0.3), 0px 1px 3px 1px rgba(60, 64, 67, 0.15);\n",
              "      fill: #174EA6;\n",
              "    }\n",
              "\n",
              "    [theme=dark] .colab-df-convert {\n",
              "      background-color: #3B4455;\n",
              "      fill: #D2E3FC;\n",
              "    }\n",
              "\n",
              "    [theme=dark] .colab-df-convert:hover {\n",
              "      background-color: #434B5C;\n",
              "      box-shadow: 0px 1px 3px 1px rgba(0, 0, 0, 0.15);\n",
              "      filter: drop-shadow(0px 1px 2px rgba(0, 0, 0, 0.3));\n",
              "      fill: #FFFFFF;\n",
              "    }\n",
              "  </style>\n",
              "\n",
              "      <script>\n",
              "        const buttonEl =\n",
              "          document.querySelector('#df-99ae7309-43fc-4582-a0f6-d5ae310fcb5d button.colab-df-convert');\n",
              "        buttonEl.style.display =\n",
              "          google.colab.kernel.accessAllowed ? 'block' : 'none';\n",
              "\n",
              "        async function convertToInteractive(key) {\n",
              "          const element = document.querySelector('#df-99ae7309-43fc-4582-a0f6-d5ae310fcb5d');\n",
              "          const dataTable =\n",
              "            await google.colab.kernel.invokeFunction('convertToInteractive',\n",
              "                                                     [key], {});\n",
              "          if (!dataTable) return;\n",
              "\n",
              "          const docLinkHtml = 'Like what you see? Visit the ' +\n",
              "            '<a target=\"_blank\" href=https://colab.research.google.com/notebooks/data_table.ipynb>data table notebook</a>'\n",
              "            + ' to learn more about interactive tables.';\n",
              "          element.innerHTML = '';\n",
              "          dataTable['output_type'] = 'display_data';\n",
              "          await google.colab.output.renderOutput(dataTable, element);\n",
              "          const docLink = document.createElement('div');\n",
              "          docLink.innerHTML = docLinkHtml;\n",
              "          element.appendChild(docLink);\n",
              "        }\n",
              "      </script>\n",
              "    </div>\n",
              "  </div>\n",
              "  "
            ]
          },
          "metadata": {},
          "execution_count": 7
        }
      ]
    },
    {
      "cell_type": "code",
      "source": [
        "data_vec.columns"
      ],
      "metadata": {
        "colab": {
          "base_uri": "https://localhost:8080/"
        },
        "id": "aYxATOHnhbV6",
        "outputId": "7852a29b-6344-4fc8-f9b6-f2db25ac62b6"
      },
      "execution_count": 8,
      "outputs": [
        {
          "output_type": "execute_result",
          "data": {
            "text/plain": [
              "Index(['abdul', 'abrijani', 'acara', 'action', 'ada', 'adakemiripan', 'adalah',\n",
              "       'ade', 'adik', 'adil',\n",
              "       ...\n",
              "       'yak', 'yang', 'yasaatnya', 'yawla', 'youtube', 'yu', 'yuk', 'yukz',\n",
              "       'zendaya', 'zombies'],\n",
              "      dtype='object', length=1731)"
            ]
          },
          "metadata": {},
          "execution_count": 8
        }
      ]
    },
    {
      "cell_type": "markdown",
      "source": [
        "#Split train test"
      ],
      "metadata": {
        "id": "UXGxwUS8hjoF"
      }
    },
    {
      "cell_type": "code",
      "source": [
        "# kondisi data awal (barchart tiap class)\n",
        "data_vec['tag'] = labeled['tipe']\n",
        "\n",
        "data_vec['tag'].value_counts()"
      ],
      "metadata": {
        "colab": {
          "base_uri": "https://localhost:8080/"
        },
        "id": "3xv0ZsN1hh2K",
        "outputId": "877272de-c45b-42a8-d767-5ca04fadb102"
      },
      "execution_count": 9,
      "outputs": [
        {
          "output_type": "execute_result",
          "data": {
            "text/plain": [
              "1    324\n",
              "0    242\n",
              "2     43\n",
              "Name: tag, dtype: int64"
            ]
          },
          "metadata": {},
          "execution_count": 9
        }
      ]
    },
    {
      "cell_type": "code",
      "source": [
        "from sklearn.model_selection import train_test_split\n",
        "\n",
        "x = data_vec.drop(columns=['tag'])\n",
        "y = data_vec.tag\n",
        "\n",
        "# 20% menjadi data train\n",
        "x_train, x_test, y_train, y_test = train_test_split(x, y, test_size=0.2, random_state=123)\n",
        "\n",
        "# jumlah masing-masing\n",
        "print('Banyak data x_train :', len(x_train), x_train.shape)\n",
        "print('Banyak data x_test  :', len(x_test), x_test.shape)\n",
        "print('Banyak data y_train :', len(y_train), y_train.shape)\n",
        "print('Banyak data y_test  :', len(y_test), y_test.shape)"
      ],
      "metadata": {
        "colab": {
          "base_uri": "https://localhost:8080/"
        },
        "id": "QUrZZOlViAvq",
        "outputId": "de699db5-bea5-48e9-f0a0-6a2e2b832b00"
      },
      "execution_count": 10,
      "outputs": [
        {
          "output_type": "stream",
          "name": "stdout",
          "text": [
            "Banyak data x_train : 487 (487, 1730)\n",
            "Banyak data x_test  : 122 (122, 1730)\n",
            "Banyak data y_train : 487 (487,)\n",
            "Banyak data y_test  : 122 (122,)\n"
          ]
        }
      ]
    },
    {
      "cell_type": "code",
      "source": [
        "y_train.values"
      ],
      "metadata": {
        "colab": {
          "base_uri": "https://localhost:8080/"
        },
        "id": "2TE_xaTM07k1",
        "outputId": "75302793-48f2-4a30-e3ed-8aff06113b7b"
      },
      "execution_count": 11,
      "outputs": [
        {
          "output_type": "execute_result",
          "data": {
            "text/plain": [
              "array([0, 0, 1, 0, 1, 1, 0, 0, 0, 1, 1, 1, 0, 1, 0, 0, 1, 0, 2, 1, 0, 0,\n",
              "       0, 2, 2, 0, 1, 1, 1, 1, 0, 2, 0, 1, 0, 2, 2, 1, 1, 1, 1, 1, 0, 0,\n",
              "       0, 0, 0, 1, 0, 1, 0, 1, 1, 1, 1, 1, 1, 1, 0, 0, 0, 0, 0, 1, 1, 1,\n",
              "       1, 1, 1, 0, 1, 0, 0, 1, 0, 1, 0, 1, 2, 2, 1, 1, 2, 1, 0, 1, 0, 1,\n",
              "       0, 0, 0, 0, 0, 1, 0, 1, 0, 0, 1, 1, 1, 1, 1, 1, 1, 1, 0, 0, 0, 0,\n",
              "       1, 0, 1, 0, 0, 2, 0, 1, 0, 1, 0, 1, 1, 1, 1, 0, 1, 1, 0, 0, 0, 1,\n",
              "       2, 0, 1, 0, 1, 1, 0, 0, 2, 1, 0, 1, 2, 2, 1, 0, 1, 1, 0, 1, 1, 0,\n",
              "       0, 2, 0, 1, 1, 0, 1, 1, 1, 0, 1, 0, 2, 0, 0, 1, 1, 1, 1, 0, 0, 0,\n",
              "       0, 0, 0, 0, 1, 1, 1, 0, 0, 0, 0, 0, 2, 1, 1, 1, 1, 0, 0, 0, 0, 1,\n",
              "       1, 0, 1, 1, 0, 1, 0, 1, 0, 1, 1, 0, 1, 1, 0, 1, 1, 1, 0, 0, 0, 0,\n",
              "       0, 0, 1, 1, 0, 0, 1, 2, 2, 1, 1, 0, 0, 1, 1, 1, 0, 1, 0, 2, 1, 1,\n",
              "       0, 1, 1, 0, 1, 1, 0, 0, 0, 1, 1, 1, 1, 0, 1, 1, 0, 1, 1, 1, 1, 1,\n",
              "       1, 1, 0, 1, 1, 1, 1, 1, 0, 1, 0, 0, 0, 1, 2, 1, 0, 1, 0, 1, 0, 0,\n",
              "       2, 1, 1, 1, 1, 1, 1, 1, 1, 0, 1, 0, 1, 1, 0, 1, 1, 1, 0, 1, 2, 0,\n",
              "       0, 1, 0, 1, 1, 0, 2, 1, 2, 1, 0, 0, 0, 1, 0, 0, 1, 1, 0, 1, 0, 1,\n",
              "       1, 1, 1, 1, 1, 2, 1, 0, 0, 0, 1, 1, 0, 0, 2, 0, 1, 0, 0, 0, 0, 1,\n",
              "       0, 1, 0, 0, 1, 0, 1, 0, 1, 0, 1, 0, 0, 0, 0, 1, 0, 1, 1, 1, 1, 1,\n",
              "       1, 0, 2, 0, 1, 1, 2, 2, 1, 0, 0, 1, 1, 0, 2, 1, 1, 0, 1, 0, 0, 1,\n",
              "       0, 1, 1, 1, 1, 1, 0, 0, 1, 0, 0, 1, 1, 2, 1, 1, 0, 1, 1, 0, 0, 0,\n",
              "       1, 0, 0, 1, 1, 0, 2, 1, 1, 1, 1, 1, 0, 1, 1, 1, 0, 0, 1, 1, 1, 0,\n",
              "       1, 1, 1, 0, 1, 1, 1, 2, 1, 1, 1, 1, 1, 0, 0, 0, 1, 1, 1, 0, 1, 0,\n",
              "       1, 0, 1, 1, 1, 0, 1, 0, 1, 1, 0, 0, 0, 1, 1, 1, 0, 0, 1, 0, 1, 1,\n",
              "       2, 2, 0])"
            ]
          },
          "metadata": {},
          "execution_count": 11
        }
      ]
    },
    {
      "cell_type": "markdown",
      "source": [
        "#Class Balancing\n"
      ],
      "metadata": {
        "id": "s0QO47chjJyW"
      }
    },
    {
      "cell_type": "code",
      "source": [
        "# kondisi data train awal\n",
        "print('Jumlah proporsi kelas (awal)')\n",
        "y_train.value_counts() # / len(y_train) * 100"
      ],
      "metadata": {
        "colab": {
          "base_uri": "https://localhost:8080/"
        },
        "id": "azUrGF8WjE31",
        "outputId": "ad270c85-855d-4a58-8954-b9a08a748fca"
      },
      "execution_count": 12,
      "outputs": [
        {
          "output_type": "stream",
          "name": "stdout",
          "text": [
            "Jumlah proporsi kelas (awal)\n"
          ]
        },
        {
          "output_type": "execute_result",
          "data": {
            "text/plain": [
              "1    252\n",
              "0    199\n",
              "2     36\n",
              "Name: tag, dtype: int64"
            ]
          },
          "metadata": {},
          "execution_count": 12
        }
      ]
    },
    {
      "cell_type": "code",
      "source": [
        "# SMOTE\n",
        "from imblearn.over_sampling import SMOTE\n",
        "\n",
        "sm = SMOTE(random_state=123, sampling_strategy={0:252, 1:252, 2:252})\n",
        "x_train_res, y_train_res = sm.fit_resample(x_train, y_train)"
      ],
      "metadata": {
        "id": "B1eMml75jM1w"
      },
      "execution_count": 13,
      "outputs": []
    },
    {
      "cell_type": "code",
      "source": [
        "# kondisi data train akhir\n",
        "print('Jumlah proporsi kelas (setelah SMOTE)')\n",
        "pd.Series(y_train_res).value_counts()"
      ],
      "metadata": {
        "colab": {
          "base_uri": "https://localhost:8080/"
        },
        "id": "AoiFlhUUjOgb",
        "outputId": "4088ffca-91a4-453d-c902-2e8d837e6814"
      },
      "execution_count": 14,
      "outputs": [
        {
          "output_type": "stream",
          "name": "stdout",
          "text": [
            "Jumlah proporsi kelas (setelah SMOTE)\n"
          ]
        },
        {
          "output_type": "execute_result",
          "data": {
            "text/plain": [
              "0    252\n",
              "1    252\n",
              "2    252\n",
              "Name: tag, dtype: int64"
            ]
          },
          "metadata": {},
          "execution_count": 14
        }
      ]
    },
    {
      "cell_type": "markdown",
      "source": [
        "# Model pipeline"
      ],
      "metadata": {
        "id": "XISn2QIyjvUc"
      }
    },
    {
      "cell_type": "code",
      "source": [
        "# import model\n",
        "from sklearn.ensemble import RandomForestClassifier\n",
        "from sklearn.linear_model import LogisticRegression\n",
        "from sklearn.svm import SVC\n",
        "\n",
        "RF = RandomForestClassifier()\n",
        "LR = LogisticRegression()\n",
        "SV = SVC()\n",
        "\n",
        "from sklearn.pipeline import make_pipeline\n",
        "\n",
        "pipe_RF = make_pipeline(RF)\n",
        "pipe_LR = make_pipeline(LR)\n",
        "pipe_SV = make_pipeline(SV)"
      ],
      "metadata": {
        "id": "IfJr3c-7jtHf"
      },
      "execution_count": 15,
      "outputs": []
    },
    {
      "cell_type": "code",
      "source": [
        "# cross valiadation score\n",
        "from sklearn.model_selection import cross_val_score\n",
        "\n",
        "cv_RF = cross_val_score(pipe_RF, x_train_res, y_train_res, cv=5, scoring='accuracy').mean()\n",
        "print('RF cv accuracy score: ', cv_RF)\n",
        "cv_LR = cross_val_score(pipe_LR, x_train_res, y_train_res, cv=5, scoring='accuracy').mean()\n",
        "print('LR cv accuracy score: ', cv_LR)\n",
        "cv_SV = cross_val_score(pipe_SV, x_train_res, y_train_res, cv=5, scoring='accuracy').mean()\n",
        "print('SV cv accuracy score: ', cv_SV)"
      ],
      "metadata": {
        "colab": {
          "base_uri": "https://localhost:8080/"
        },
        "id": "1a4unijfjybk",
        "outputId": "b7b8b09b-ffc1-4acc-8464-46079944835d"
      },
      "execution_count": 16,
      "outputs": [
        {
          "output_type": "stream",
          "name": "stdout",
          "text": [
            "RF cv accuracy score:  0.8809864064133845\n",
            "LR cv accuracy score:  0.883644126873475\n",
            "SV cv accuracy score:  0.9061171139769953\n"
          ]
        }
      ]
    },
    {
      "cell_type": "code",
      "source": [
        "# model fit\n",
        "pipe_RF.fit(x_train_res, y_train_res)\n",
        "pipe_LR.fit(x_train_res, y_train_res)\n",
        "pipe_SV.fit(x_train_res, y_train_res)\n",
        "\n",
        "# model predict\n",
        "predict_RF = pipe_RF.predict(x_test)\n",
        "predict_LR = pipe_LR.predict(x_test)\n",
        "predict_SV = pipe_SV.predict(x_test)"
      ],
      "metadata": {
        "id": "UcRci6lkj12s"
      },
      "execution_count": 17,
      "outputs": []
    },
    {
      "cell_type": "markdown",
      "source": [
        "#Evaluation"
      ],
      "metadata": {
        "id": "Q0_2jphej5RI"
      }
    },
    {
      "cell_type": "code",
      "source": [
        "from sklearn.metrics import accuracy_score, confusion_matrix\n",
        "import matplotlib.pyplot as plt\n"
      ],
      "metadata": {
        "id": "CLAMgqnvj7He"
      },
      "execution_count": 18,
      "outputs": []
    },
    {
      "cell_type": "code",
      "source": [
        "# menentukan baseline dengan akurasi terbesar\n",
        "y_test.value_counts() / len(y_test)"
      ],
      "metadata": {
        "colab": {
          "base_uri": "https://localhost:8080/"
        },
        "id": "VQbrL8tzj8u9",
        "outputId": "bbde602b-9e02-403a-a689-e2fe1011ce4a"
      },
      "execution_count": 19,
      "outputs": [
        {
          "output_type": "execute_result",
          "data": {
            "text/plain": [
              "1    0.590164\n",
              "0    0.352459\n",
              "2    0.057377\n",
              "Name: tag, dtype: float64"
            ]
          },
          "metadata": {},
          "execution_count": 19
        }
      ]
    },
    {
      "cell_type": "code",
      "source": [
        "from sklearn.metrics import precision_recall_fscore_support"
      ],
      "metadata": {
        "id": "fNPkMXdRkBQ-"
      },
      "execution_count": 20,
      "outputs": []
    },
    {
      "cell_type": "markdown",
      "source": [],
      "metadata": {
        "id": "K48gh1vvju7B"
      }
    },
    {
      "cell_type": "code",
      "source": [
        "# Citiation http://scikit-learn.org/stable/auto_examples/model_selection/plot_confusion_matrix.html\n",
        "def plot_confusion_matrix(cm, target_names, title=\"Confusion matrix\", cmap=None, normalize=True):\n",
        "  accuracy = np.trace(cm) / float(np.sum(cm))\n",
        "  misclass = 1 - accuracy\n",
        "\n",
        "  if cmap is None:\n",
        "    cmap = plt.get_cmap(\"Blues\")\n",
        "\n",
        "  plt.figure(figsize=(8, 6))\n",
        "  plt.imshow(cm, interpolation=\"nearest\", cmap=cmap)\n",
        "  plt.title(title)\n",
        "  plt.colorbar()\n",
        "\n",
        "  if target_names is not None:\n",
        "    tick_marks = np.arange(len(target_names))\n",
        "    plt.xticks(tick_marks, target_names, rotation=45)\n",
        "    plt.yticks(tick_marks, target_names)\n",
        "\n",
        "  if normalize:\n",
        "    cm = cm.astype(\"float\") / cm.sum(axis=1)[:, np.newaxis]\n",
        "\n",
        "  thresh = cm.max() / 1.5 if normalize else cm.max() / 2\n",
        "\n",
        "  for i, j in itertools.product(range(cm.shape[0]), range(cm.shape[1])):\n",
        "    if normalize:\n",
        "      plt.text(\n",
        "        j,\n",
        "        i,\n",
        "        \"{:0.4f}\".format(cm[i, j]),\n",
        "        horizontalalignment=\"center\",\n",
        "        color=\"white\" if cm[i, j] > thresh else \"black\",\n",
        "      )\n",
        "    else:\n",
        "      plt.text(\n",
        "        j,\n",
        "        i,\n",
        "        \"{:,}\".format(cm[i, j]),\n",
        "        horizontalalignment=\"center\",\n",
        "        color=\"white\" if cm[i, j] > thresh else \"black\",\n",
        "      )\n",
        "\n",
        "  plt.tight_layout()\n",
        "\n",
        "  plt.ylabel(\"Predicted label\")\n",
        "\n",
        "  plt.xlabel(\n",
        "    \"True label\\naccuracy={:0.4f}; misclass={:0.4f}\".format(accuracy, misclass)\n",
        "  )\n",
        "\n",
        "  plt.show()"
      ],
      "metadata": {
        "id": "QKxdLGgfkDNH"
      },
      "execution_count": 21,
      "outputs": []
    },
    {
      "cell_type": "code",
      "source": [
        "# Random Forest Classifier Evaluation\n",
        "import itertools    \n",
        "print('Accuracy Random Forest Classifier: ', accuracy_score(y_test, predict_RF))\n",
        "plot_confusion_matrix(cm           = confusion_matrix(predict_RF, y_test), \n",
        "                      normalize    = False,\n",
        "                      target_names = ['negatif', 'netral', 'positif'],\n",
        "                      title        = \"Confusion Matrix Random Forest Classifier\")"
      ],
      "metadata": {
        "colab": {
          "base_uri": "https://localhost:8080/",
          "height": 484
        },
        "id": "LHoDMgmYkDgS",
        "outputId": "a1815b15-4937-4e1c-b232-3745b2d00514"
      },
      "execution_count": 22,
      "outputs": [
        {
          "output_type": "stream",
          "name": "stdout",
          "text": [
            "Accuracy Random Forest Classifier:  0.8524590163934426\n"
          ]
        },
        {
          "output_type": "display_data",
          "data": {
            "text/plain": [
              "<Figure size 576x432 with 2 Axes>"
            ],
            "image/png": "[encoded data removed]"
          },
          "metadata": {
            "needs_background": "light"
          }
        }
      ]
    },
    {
      "cell_type": "code",
      "source": [
        "# precision, recall, f1 score, support\n",
        "macro_rf = precision_recall_fscore_support(y_test, predict_RF, average='macro')"
      ],
      "metadata": {
        "id": "uW4K6g7JkE-y"
      },
      "execution_count": 23,
      "outputs": []
    },
    {
      "cell_type": "code",
      "source": [
        "macro_rf"
      ],
      "metadata": {
        "colab": {
          "base_uri": "https://localhost:8080/"
        },
        "id": "lg9B3iTmwUT_",
        "outputId": "1e5c7f5b-9cb2-4bbe-d89b-8ee912a0ae5d"
      },
      "execution_count": 31,
      "outputs": [
        {
          "output_type": "execute_result",
          "data": {
            "text/plain": [
              "(0.7640300910904415, 0.8150762889134983, 0.7855434753320939, None)"
            ]
          },
          "metadata": {},
          "execution_count": 31
        }
      ]
    },
    {
      "cell_type": "code",
      "source": [
        "# precision, recall, f1 score, support\n",
        "micro_rf = precision_recall_fscore_support(y_test, predict_RF, average='micro')"
      ],
      "metadata": {
        "id": "gcWS7_8oksT6"
      },
      "execution_count": 24,
      "outputs": []
    },
    {
      "cell_type": "code",
      "source": [
        "micro_rf"
      ],
      "metadata": {
        "colab": {
          "base_uri": "https://localhost:8080/"
        },
        "id": "UkYU_8GRxFiU",
        "outputId": "fb4382ca-de49-469d-e2aa-83c57b229e35"
      },
      "execution_count": 28,
      "outputs": [
        {
          "output_type": "execute_result",
          "data": {
            "text/plain": [
              "(0.8524590163934426, 0.8524590163934426, 0.8524590163934426, None)"
            ]
          },
          "metadata": {},
          "execution_count": 28
        }
      ]
    },
    {
      "cell_type": "code",
      "source": [
        "# precision, recall, f1 score, support\n",
        "weighted_rf = precision_recall_fscore_support(y_test, predict_RF, average='weighted')\n",
        "weighted_rf"
      ],
      "metadata": {
        "colab": {
          "base_uri": "https://localhost:8080/"
        },
        "id": "p9AOc9ePxKuy",
        "outputId": "c9879a9e-1eb1-4ca7-8a9b-bc5363e3200e"
      },
      "execution_count": 48,
      "outputs": [
        {
          "output_type": "execute_result",
          "data": {
            "text/plain": [
              "(0.8603513674204412, 0.8524590163934426, 0.8548225059664923, None)"
            ]
          },
          "metadata": {},
          "execution_count": 48
        }
      ]
    },
    {
      "cell_type": "code",
      "source": [
        "import sklearn.metrics as skm\n",
        "# print(len(y_pred_val))\n",
        "# print(len(y_true_val))\n",
        "cm = skm.multilabel_confusion_matrix(y_test, predict_RF)\n",
        "print(cm)\n",
        "print( skm.classification_report(y_test, predict_RF))"
      ],
      "metadata": {
        "colab": {
          "base_uri": "https://localhost:8080/"
        },
        "id": "OedrhsFjvd6e",
        "outputId": "5fdcf0a9-3834-4dbc-b140-3449e405b5d7"
      },
      "execution_count": 27,
      "outputs": [
        {
          "output_type": "stream",
          "name": "stdout",
          "text": [
            "[[[ 71   8]\n",
            "  [  5  38]]\n",
            "\n",
            " [[ 44   6]\n",
            "  [ 11  61]]\n",
            "\n",
            " [[111   4]\n",
            "  [  2   5]]]\n",
            "              precision    recall  f1-score   support\n",
            "\n",
            "           0       0.83      0.88      0.85        43\n",
            "           1       0.91      0.85      0.88        72\n",
            "           2       0.56      0.71      0.63         7\n",
            "\n",
            "    accuracy                           0.85       122\n",
            "   macro avg       0.76      0.82      0.79       122\n",
            "weighted avg       0.86      0.85      0.85       122\n",
            "\n"
          ]
        }
      ]
    },
    {
      "cell_type": "code",
      "source": [
        "# Logistic Regression Evaluation\n",
        "print('Accuracy Logistic Regression: ', accuracy_score(y_test, predict_LR))\n",
        "plot_confusion_matrix(cm           = confusion_matrix(predict_LR, y_test), \n",
        "                      normalize    = False,\n",
        "                      target_names = ['negatif', 'netral', 'positif'],\n",
        "                      title        = \"Confusion Matrix Logistic Regression\")"
      ],
      "metadata": {
        "colab": {
          "base_uri": "https://localhost:8080/",
          "height": 484
        },
        "id": "N9GpBX11lS-S",
        "outputId": "fab89939-dfbc-4046-c0c5-da6df6a2441b"
      },
      "execution_count": 32,
      "outputs": [
        {
          "output_type": "stream",
          "name": "stdout",
          "text": [
            "Accuracy Logistic Regression:  0.8278688524590164\n"
          ]
        },
        {
          "output_type": "display_data",
          "data": {
            "text/plain": [
              "<Figure size 576x432 with 2 Axes>"
            ],
            "image/png": "[encoded data removed]"
          },
          "metadata": {
            "needs_background": "light"
          }
        }
      ]
    },
    {
      "cell_type": "code",
      "source": [
        "# precision, recall, f1 score, support\n",
        "macro_lr = precision_recall_fscore_support(y_test, predict_LR, average='macro')"
      ],
      "metadata": {
        "id": "ge9bT3_LlXxP"
      },
      "execution_count": 33,
      "outputs": []
    },
    {
      "cell_type": "code",
      "source": [
        "# precision, recall, f1 score, support\n",
        "micro_lr = precision_recall_fscore_support(y_test, predict_LR, average='micro')"
      ],
      "metadata": {
        "id": "bWBe70K0lfJk"
      },
      "execution_count": 34,
      "outputs": []
    },
    {
      "cell_type": "code",
      "source": [
        "# precision, recall, f1 score, support\n",
        "weighted_lr = precision_recall_fscore_support(y_test, predict_LR, average='weighted')\n",
        "weighted_lr"
      ],
      "metadata": {
        "colab": {
          "base_uri": "https://localhost:8080/"
        },
        "id": "0dy7d-Zlx7cH",
        "outputId": "e32291f7-c083-487c-f65c-9c0774876647"
      },
      "execution_count": 49,
      "outputs": [
        {
          "output_type": "execute_result",
          "data": {
            "text/plain": [
              "(0.8377113518799701, 0.8278688524590164, 0.8300792705238861, None)"
            ]
          },
          "metadata": {},
          "execution_count": 49
        }
      ]
    },
    {
      "cell_type": "code",
      "source": [
        "cm = skm.multilabel_confusion_matrix(y_test, predict_LR)\n",
        "print(cm)\n",
        "print( skm.classification_report(y_test, predict_LR))"
      ],
      "metadata": {
        "colab": {
          "base_uri": "https://localhost:8080/"
        },
        "id": "0UYuKWtbx_xy",
        "outputId": "faf12e28-734d-4447-ade4-846b5b75f355"
      },
      "execution_count": 45,
      "outputs": [
        {
          "output_type": "stream",
          "name": "stdout",
          "text": [
            "[[[ 68  11]\n",
            "  [  5  38]]\n",
            "\n",
            " [[ 44   6]\n",
            "  [ 13  59]]\n",
            "\n",
            " [[111   4]\n",
            "  [  3   4]]]\n",
            "              precision    recall  f1-score   support\n",
            "\n",
            "           0       0.78      0.88      0.83        43\n",
            "           1       0.91      0.82      0.86        72\n",
            "           2       0.50      0.57      0.53         7\n",
            "\n",
            "    accuracy                           0.83       122\n",
            "   macro avg       0.73      0.76      0.74       122\n",
            "weighted avg       0.84      0.83      0.83       122\n",
            "\n"
          ]
        }
      ]
    },
    {
      "cell_type": "code",
      "source": [
        "# Support Vector Machine Evaluation\n",
        "print('Accuracy Suport Vector Machine: ', accuracy_score(y_test, predict_SV))\n",
        "plot_confusion_matrix(cm           = confusion_matrix(predict_SV, y_test), \n",
        "                      normalize    = False,\n",
        "                      target_names = ['negatif', 'netral', 'positif'],\n",
        "                      title        = \"Confusion Matrix Support Vector Machine\")"
      ],
      "metadata": {
        "colab": {
          "base_uri": "https://localhost:8080/",
          "height": 484
        },
        "id": "iXL0HG5LlgsS",
        "outputId": "7627ab1f-36ba-435b-f873-ed8c11fc383b"
      },
      "execution_count": 35,
      "outputs": [
        {
          "output_type": "stream",
          "name": "stdout",
          "text": [
            "Accuracy Suport Vector Machine:  0.8770491803278688\n"
          ]
        },
        {
          "output_type": "display_data",
          "data": {
            "text/plain": [
              "<Figure size 576x432 with 2 Axes>"
            ],
            "image/png": "[encoded data removed]"
          },
          "metadata": {
            "needs_background": "light"
          }
        }
      ]
    },
    {
      "cell_type": "code",
      "source": [
        "# precision, recall, f1 score, support\n",
        "macro_sv = precision_recall_fscore_support(y_test, predict_SV, average='macro')"
      ],
      "metadata": {
        "id": "G7MILafHllR6"
      },
      "execution_count": 42,
      "outputs": []
    },
    {
      "cell_type": "code",
      "source": [
        "# precision, recall, f1 score, support\n",
        "micro_sv = precision_recall_fscore_support(y_test, predict_SV, average='micro')"
      ],
      "metadata": {
        "id": "hqtoYYxylt42"
      },
      "execution_count": 43,
      "outputs": []
    },
    {
      "cell_type": "code",
      "source": [
        "# precision, recall, f1 score, support\n",
        "weighted_sv = precision_recall_fscore_support(y_test, predict_SV, average='weighted')\n",
        "weighted_sv"
      ],
      "metadata": {
        "colab": {
          "base_uri": "https://localhost:8080/"
        },
        "id": "k2ZKUHvixzHd",
        "outputId": "021bfba9-ffdc-47c6-f6f3-8bec1bb10906"
      },
      "execution_count": 50,
      "outputs": [
        {
          "output_type": "execute_result",
          "data": {
            "text/plain": [
              "(0.8827991191583069, 0.8770491803278688, 0.8764106641709373, None)"
            ]
          },
          "metadata": {},
          "execution_count": 50
        }
      ]
    },
    {
      "cell_type": "code",
      "source": [
        "cm = skm.multilabel_confusion_matrix(y_test, predict_SV)\n",
        "print(cm)\n",
        "print( skm.classification_report(y_test, predict_SV))"
      ],
      "metadata": {
        "colab": {
          "base_uri": "https://localhost:8080/"
        },
        "id": "neQmPX39xdAO",
        "outputId": "a9c83925-c4df-47b8-865d-22e2ba5ee457"
      },
      "execution_count": 38,
      "outputs": [
        {
          "output_type": "stream",
          "name": "stdout",
          "text": [
            "[[[ 69  10]\n",
            "  [  3  40]]\n",
            "\n",
            " [[ 46   4]\n",
            "  [  9  63]]\n",
            "\n",
            " [[114   1]\n",
            "  [  3   4]]]\n",
            "              precision    recall  f1-score   support\n",
            "\n",
            "           0       0.80      0.93      0.86        43\n",
            "           1       0.94      0.88      0.91        72\n",
            "           2       0.80      0.57      0.67         7\n",
            "\n",
            "    accuracy                           0.88       122\n",
            "   macro avg       0.85      0.79      0.81       122\n",
            "weighted avg       0.88      0.88      0.88       122\n",
            "\n"
          ]
        }
      ]
    },
    {
      "cell_type": "code",
      "source": [
        "# macro\n",
        "macro = {'Precision':[macro_rf[0],macro_lr[0],macro_sv[0]],'Recall':[macro_rf[1],macro_lr[1],macro_sv[1]], 'F1':[macro_rf[2],macro_lr[2],macro_sv[2]]}\n",
        "pd.DataFrame(macro, index=['Random Forest','Logistic Regression','Support Vector Machine']).style.highlight_max(color = 'darkgreen', axis = 0)"
      ],
      "metadata": {
        "colab": {
          "base_uri": "https://localhost:8080/",
          "height": 143
        },
        "id": "nqJ1nhWLlwaV",
        "outputId": "84580ff3-b914-44de-dccc-b20f9d8d3a6e"
      },
      "execution_count": 55,
      "outputs": [
        {
          "output_type": "execute_result",
          "data": {
            "text/plain": [
              "<pandas.io.formats.style.Styler at 0x7f7ad4801e10>"
            ],
            "text/html": [
              "<style type=\"text/css\">\n",
              "#T_478b7_row0_col1, #T_478b7_row2_col0, #T_478b7_row2_col2 {\n",
              "  background-color: darkgreen;\n",
              "}\n",
              "</style>\n",
              "<table id=\"T_478b7_\" class=\"dataframe\">\n",
              "  <thead>\n",
              "    <tr>\n",
              "      <th class=\"blank level0\" >&nbsp;</th>\n",
              "      <th class=\"col_heading level0 col0\" >Precision</th>\n",
              "      <th class=\"col_heading level0 col1\" >Recall</th>\n",
              "      <th class=\"col_heading level0 col2\" >F1</th>\n",
              "    </tr>\n",
              "  </thead>\n",
              "  <tbody>\n",
              "    <tr>\n",
              "      <th id=\"T_478b7_level0_row0\" class=\"row_heading level0 row0\" >Random Forest</th>\n",
              "      <td id=\"T_478b7_row0_col0\" class=\"data row0 col0\" >0.764030</td>\n",
              "      <td id=\"T_478b7_row0_col1\" class=\"data row0 col1\" >0.815076</td>\n",
              "      <td id=\"T_478b7_row0_col2\" class=\"data row0 col2\" >0.785543</td>\n",
              "    </tr>\n",
              "    <tr>\n",
              "      <th id=\"T_478b7_level0_row1\" class=\"row_heading level0 row1\" >Logistic Regression</th>\n",
              "      <td id=\"T_478b7_row1_col0\" class=\"data row1 col0\" >0.727734</td>\n",
              "      <td id=\"T_478b7_row1_col1\" class=\"data row1 col1\" >0.758198</td>\n",
              "      <td id=\"T_478b7_row1_col2\" class=\"data row1 col2\" >0.740245</td>\n",
              "    </tr>\n",
              "    <tr>\n",
              "      <th id=\"T_478b7_level0_row2\" class=\"row_heading level0 row2\" >Support Vector Machine</th>\n",
              "      <td id=\"T_478b7_row2_col0\" class=\"data row2 col0\" >0.846766</td>\n",
              "      <td id=\"T_478b7_row2_col1\" class=\"data row2 col1\" >0.792220</td>\n",
              "      <td id=\"T_478b7_row2_col2\" class=\"data row2 col2\" >0.811119</td>\n",
              "    </tr>\n",
              "  </tbody>\n",
              "</table>\n"
            ]
          },
          "metadata": {},
          "execution_count": 55
        }
      ]
    },
    {
      "cell_type": "code",
      "source": [
        "# micro\n",
        "micro = {'Precision':[micro_rf[0],micro_lr[0],micro_sv[0]],'Recall':[micro_rf[1],micro_lr[1],micro_sv[1]], 'F1':[micro_rf[2],micro_lr[2],micro_sv[2]]}\n",
        "pd.DataFrame(micro, index=['Random Forest','Logistic Regression','Support Vector Machine']).style.highlight_max(color = 'darkgreen', axis = 0)"
      ],
      "metadata": {
        "colab": {
          "base_uri": "https://localhost:8080/",
          "height": 143
        },
        "id": "6fat3YMllxis",
        "outputId": "bea7ccc5-6219-466d-e4af-2aa6b802bd99"
      },
      "execution_count": 54,
      "outputs": [
        {
          "output_type": "execute_result",
          "data": {
            "text/plain": [
              "<pandas.io.formats.style.Styler at 0x7f7ad4b42f90>"
            ],
            "text/html": [
              "<style type=\"text/css\">\n",
              "#T_1b686_row2_col0, #T_1b686_row2_col1, #T_1b686_row2_col2 {\n",
              "  background-color: darkgreen;\n",
              "}\n",
              "</style>\n",
              "<table id=\"T_1b686_\" class=\"dataframe\">\n",
              "  <thead>\n",
              "    <tr>\n",
              "      <th class=\"blank level0\" >&nbsp;</th>\n",
              "      <th class=\"col_heading level0 col0\" >Precision</th>\n",
              "      <th class=\"col_heading level0 col1\" >Recall</th>\n",
              "      <th class=\"col_heading level0 col2\" >F1</th>\n",
              "    </tr>\n",
              "  </thead>\n",
              "  <tbody>\n",
              "    <tr>\n",
              "      <th id=\"T_1b686_level0_row0\" class=\"row_heading level0 row0\" >Random Forest</th>\n",
              "      <td id=\"T_1b686_row0_col0\" class=\"data row0 col0\" >0.852459</td>\n",
              "      <td id=\"T_1b686_row0_col1\" class=\"data row0 col1\" >0.852459</td>\n",
              "      <td id=\"T_1b686_row0_col2\" class=\"data row0 col2\" >0.852459</td>\n",
              "    </tr>\n",
              "    <tr>\n",
              "      <th id=\"T_1b686_level0_row1\" class=\"row_heading level0 row1\" >Logistic Regression</th>\n",
              "      <td id=\"T_1b686_row1_col0\" class=\"data row1 col0\" >0.827869</td>\n",
              "      <td id=\"T_1b686_row1_col1\" class=\"data row1 col1\" >0.827869</td>\n",
              "      <td id=\"T_1b686_row1_col2\" class=\"data row1 col2\" >0.827869</td>\n",
              "    </tr>\n",
              "    <tr>\n",
              "      <th id=\"T_1b686_level0_row2\" class=\"row_heading level0 row2\" >Support Vector Machine</th>\n",
              "      <td id=\"T_1b686_row2_col0\" class=\"data row2 col0\" >0.877049</td>\n",
              "      <td id=\"T_1b686_row2_col1\" class=\"data row2 col1\" >0.877049</td>\n",
              "      <td id=\"T_1b686_row2_col2\" class=\"data row2 col2\" >0.877049</td>\n",
              "    </tr>\n",
              "  </tbody>\n",
              "</table>\n"
            ]
          },
          "metadata": {},
          "execution_count": 54
        }
      ]
    },
    {
      "cell_type": "code",
      "source": [
        "weighted = {'Precision':[weighted_rf[0],weighted_lr[0],weighted_sv[0]],'Recall':[weighted_rf[1],weighted_lr[1],weighted_sv[1]], 'F1':[weighted_rf[2],weighted_lr[2],weighted_sv[2]]}\n",
        "pd.DataFrame(weighted, index=['Random Forest','Logistic Regression','Support Vector Machine']).style.highlight_max(color = 'darkgreen', axis = 0)"
      ],
      "metadata": {
        "id": "8n27XDTHl2L5",
        "colab": {
          "base_uri": "https://localhost:8080/",
          "height": 143
        },
        "outputId": "c118282b-6be0-4296-cb96-38df42297dbd"
      },
      "execution_count": 56,
      "outputs": [
        {
          "output_type": "execute_result",
          "data": {
            "text/plain": [
              "<pandas.io.formats.style.Styler at 0x7f7ad484dd10>"
            ],
            "text/html": [
              "<style type=\"text/css\">\n",
              "#T_2ab44_row2_col0, #T_2ab44_row2_col1, #T_2ab44_row2_col2 {\n",
              "  background-color: darkgreen;\n",
              "}\n",
              "</style>\n",
              "<table id=\"T_2ab44_\" class=\"dataframe\">\n",
              "  <thead>\n",
              "    <tr>\n",
              "      <th class=\"blank level0\" >&nbsp;</th>\n",
              "      <th class=\"col_heading level0 col0\" >Precision</th>\n",
              "      <th class=\"col_heading level0 col1\" >Recall</th>\n",
              "      <th class=\"col_heading level0 col2\" >F1</th>\n",
              "    </tr>\n",
              "  </thead>\n",
              "  <tbody>\n",
              "    <tr>\n",
              "      <th id=\"T_2ab44_level0_row0\" class=\"row_heading level0 row0\" >Random Forest</th>\n",
              "      <td id=\"T_2ab44_row0_col0\" class=\"data row0 col0\" >0.860351</td>\n",
              "      <td id=\"T_2ab44_row0_col1\" class=\"data row0 col1\" >0.852459</td>\n",
              "      <td id=\"T_2ab44_row0_col2\" class=\"data row0 col2\" >0.854823</td>\n",
              "    </tr>\n",
              "    <tr>\n",
              "      <th id=\"T_2ab44_level0_row1\" class=\"row_heading level0 row1\" >Logistic Regression</th>\n",
              "      <td id=\"T_2ab44_row1_col0\" class=\"data row1 col0\" >0.837711</td>\n",
              "      <td id=\"T_2ab44_row1_col1\" class=\"data row1 col1\" >0.827869</td>\n",
              "      <td id=\"T_2ab44_row1_col2\" class=\"data row1 col2\" >0.830079</td>\n",
              "    </tr>\n",
              "    <tr>\n",
              "      <th id=\"T_2ab44_level0_row2\" class=\"row_heading level0 row2\" >Support Vector Machine</th>\n",
              "      <td id=\"T_2ab44_row2_col0\" class=\"data row2 col0\" >0.882799</td>\n",
              "      <td id=\"T_2ab44_row2_col1\" class=\"data row2 col1\" >0.877049</td>\n",
              "      <td id=\"T_2ab44_row2_col2\" class=\"data row2 col2\" >0.876411</td>\n",
              "    </tr>\n",
              "  </tbody>\n",
              "</table>\n"
            ]
          },
          "metadata": {},
          "execution_count": 56
        }
      ]
    }
  ]
}